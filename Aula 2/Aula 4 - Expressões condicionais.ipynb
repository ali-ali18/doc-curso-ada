{
 "cells": [
  {
   "cell_type": "markdown",
   "id": "81ca0b2b",
   "metadata": {},
   "source": [
    "# Aula 4 - Expressões condicionais\n",
    "## 1.1. Se \n",
    "Os programas do capítulo _Operações Lógicas_ não são \"amigáveis\" para o usuário. Ao invés de mostrar _True_ ou _False_, por exemplo, seria mais útil exibir se o aluno foi \"Aprovado\" ou \"Reprovado\".\n",
    " \n",
    "Para que possamos escrever na tela as mensagens \"Aprovado\" ou \"Reprovado\", é necessário que haja em algum ponto do código o trecho _print('Aprovado')_ e o trecho _print('Reprovado')_. Porém, não gostaríamos que ambos fossem exibidos ao mesmo tempo.\n",
    " \n",
    "Precisamos *ramificar* o fluxo de execução de nosso programa: em certas circunstâncias, o fluxo deve executar algumas linhas de código e ignorar outras.\n",
    " \n",
    "Uma **condicional** é uma instrução em Python que decide se outras linhas serão ou não executadas dependendo do resultado de uma condição. A condição nada mais é do que uma expressão lógica. Se a condição for verdadeira, as linhas são executadas. Senão, são ignoradas.\n",
    " \n",
    "A condicional mais básica em Python é o **if** (se):"
   ]
  },
  {
   "cell_type": "code",
   "execution_count": null,
   "id": "8b7316e0",
   "metadata": {},
   "outputs": [],
   "source": [
    "nota1 = float(input('Digite a nota 1: '))\n",
    "nota2 = float(input('Digite a nota 2: '))\n",
    " \n",
    "media = (nota1 + nota2)/2\n",
    " \n",
    "if media >= 6.0:\n",
    "    print('Aprovado')\n",
    "    print('Média: ', media)\n",
    "    \n",
    "print('Média: ', media)"
   ]
  },
  {
   "cell_type": "markdown",
   "id": "21dbec23",
   "metadata": {},
   "source": [
    "Execute o programa acima. Note que **se** (if) a média é maior ou igual a 6.0, ele exibe a mensagem \"Aprovado\" e depois a média. Caso contrário, ele apenas exibe a média.\n",
    " \n",
    "> Para dizermos que uma ou mais linhas \"pertencem\" ao nosso **if**, usamos um símbolo de parágrafo (tecla \"Tab\" no teclado). O programa sabe que o _if_ \"acabou\" quando as linhas param de ter \"tabs\". Esses tabs são chamados de **indentação**. Tanto no _if_ quanto no restante das estruturas de controle que estudaremos é obrigatório ter pelo menos 1 linha indentada abaixo da linha de controle.\n",
    " \n",
    "## 1.2. Senão\n",
    "Note que conseguimos fazer nosso programa decidir se ele exibe a mensagem \"Aprovado\" ou não. O próximo passo seria fazer ele decidir entre 2 mensagens diferentes: \"Aprovado\" ou \"Reprovado\". Um primeiro jeito de fazer isso seria um segundo **if** invertendo a condição:"
   ]
  },
  {
   "cell_type": "code",
   "execution_count": null,
   "id": "40d298dc",
   "metadata": {},
   "outputs": [],
   "source": [
    "nota1 = float(input('Digite a nota 1: '))\n",
    "nota2 = float(input('Digite a noat 2: '))\n",
    " \n",
    "media = (nota1 + nota2)/2\n",
    " \n",
    "if media >= 6.0:\n",
    "    print('Aprovado')\n",
    "if media < 6.0:\n",
    "    print('Reprovado')\n",
    "    \n",
    "print('Média: ', media)"
   ]
  },
  {
   "cell_type": "markdown",
   "id": "fdb0676c",
   "metadata": {},
   "source": [
    "O programa acima funciona. Porém, conforme nossos programas começam a ficar mais complexos e nossos **if** começam a ter linhas demais, podemos nos perder e esquecer que esses 2 **if** são 2 casos mutuamente exclusivos. Pior ainda, podemos vir a acrescentar condições novas em um e esquecer de atualizar no outro. \n",
    " \n",
    "Nos casos em que temos condições mutuamente exclusivas, podemos utilizar um par **if**/**else** (se/senão). **Se** a condição for verdadeira, faça tal coisa. **Senão**, faça outra coisa."
   ]
  },
  {
   "cell_type": "code",
   "execution_count": null,
   "id": "0ac92f70",
   "metadata": {},
   "outputs": [],
   "source": [
    "nota1 = float(input('Digite a nota 1: '))\n",
    "nota2 = float(input('Digite a nota 2: '))\n",
    " \n",
    "media = (nota1 + nota2)/2\n",
    " \n",
    "if media >= 6.0:\n",
    "    print('Aprovado')\n",
    "else:\n",
    "    print('Reprovado')\n",
    "    \n",
    "print('Média: ', media)"
   ]
  },
  {
   "cell_type": "markdown",
   "id": "39ba32eb",
   "metadata": {},
   "source": [
    "> Note que o **else** não possui condição. A condição dele é implícita: é a negação da condição do **if**. Se o **if** executar, o **else** não executa e vice-versa. Consequentemente, **o else não pode existir sem um if**.\n",
    " \n",
    "## 1.3. Aninhando condições\n",
    "É possível _aninhar_ condições: ou seja, colocar um novo **if** dentro de outro **if** ou **else**. Imagine que nossa escola não reprova direto o aluno com nota inferior a 6, e sim permite que ele faça uma recuperação. Porém, o aluno precisa ter tirado no mínimo média 3 para que permitam que faça a recuperação. Assim temos:\n",
    " \n",
    "* Se nota maior ou igual a 6: aprovado.\n",
    "* Senão:\n",
    "* * Se nota entre 6 e 3: recuperação.\n",
    "* * Senão: reprovado.\n",
    "Em Python:\n",
    " "
   ]
  },
  {
   "cell_type": "code",
   "execution_count": null,
   "id": "3e7b58a6",
   "metadata": {},
   "outputs": [],
   "source": [
    "nota1 = float(input('Digite a nota 1: '))\n",
    "nota2 = float(input('Digite a noat 2: '))\n",
    " \n",
    "media = (nota1 + nota2)/2\n",
    " \n",
    "if media >= 6.0:\n",
    "    print('Aprovado')\n",
    "    \n",
    "if media >= 3.0 and media < 6.0 :\n",
    "    print('Recuperação')\n",
    "else:\n",
    "    print('Reprovado')\n",
    "    \n",
    "print('Média: ', media)"
   ]
  },
  {
   "cell_type": "markdown",
   "id": "e4682257",
   "metadata": {},
   "source": [
    "#### 1.4. Senão-se \n",
    "Note que se começarmos a aninhar muitas condições (if dentro de else dentro de else dentro de else...), nosso código pode começar a ficar confuso, com a aparência de uma \"escadinha\":\n",
    " \n",
    "```\n",
    "Se\n",
    "Senão:\n",
    "    Se\n",
    "    Senão:\n",
    "        Se\n",
    "        Senão:\n",
    "            Se:\n",
    "            Senão:\n",
    "                Se:\n",
    "                 ...\n",
    "```\n",
    " \n",
    "Isso pode tornar o código bastante complexo e difícil de atualizar ou corrigir erros posteriormente. Para quebrar a \"escadinha\", existe a possibilidade de juntarmos o \"se\" do próximo nível com o \"senão\" do nível anterior: o **elif**: **else** + **if** (senão + se).\n",
    "\n",
    "O elif só é executado se um **if** der errado (ou seja, ele é um **else**), mas ele também tem uma condição que deve ser respeitada (ou seja, ele também é um **if**). Podemos reescrever nosso código anterior utilizando um **elif**:\n",
    " "
   ]
  },
  {
   "cell_type": "code",
   "execution_count": null,
   "id": "0a2d4a63",
   "metadata": {},
   "outputs": [],
   "source": [
    "nota1 = float(input('Digite a nota 1: '))\n",
    "nota2 = float(input('Digite a nota 2: '))\n",
    " \n",
    "media = (nota1 + nota2) / 2\n",
    " \n",
    "if media >= 6.0:\n",
    "    print('Aprovado')\n",
    "elif media >= 3.0:\n",
    "    print('Recuperação')\n",
    "else:\n",
    "    print('Reprovado')\n",
    "    \n",
    "print('Média: ', media)"
   ]
  },
  {
   "cell_type": "code",
   "execution_count": null,
   "id": "30afc8c2",
   "metadata": {},
   "outputs": [],
   "source": [
    "# E se termos mais condições??\n",
    "\n",
    "media = 10\n",
    "presenca = 0.5\n",
    "\n",
    "primeira_condicao = (media > 6)\n",
    "segunda_condicao = (presenca > 0.75)\n",
    "terceira_condicao = (20 > 10)\n",
    "\n",
    "if primeira_condicao and segunda_condicao and terceira_condicao:\n",
    "    print('O aluno aprovou! Parabens')  \n",
    "elif primeira_condicao:\n",
    "    print('O aluno aprovou! Mas, por falta de assistencias, nao passou')\n",
    "else:\n",
    "    print('nao aprovou! Estude um pouca mais :)')"
   ]
  },
  {
   "cell_type": "markdown",
   "id": "72d9ffb8",
   "metadata": {},
   "source": [
    "Podemos usar quantos **elif** nós quisermos. Sempre que um deles der errado, o próximo será testado. Quando algum deles der certo, todo o restante será ignorado. \n",
    " \n",
    "Opcionalmente, podemos ter um **else** ao final do bloco, que só será executado se o **if** e todos os **elif** derem errado.  \n",
    " \n",
    "O bloco, **obrigatoriamente**, deve ser iniciado com um _if_.\n",
    " \n",
    "### Atenção\n",
    " \n",
    "> Você lembra dos valores *truthy* e *falsy*? Nós conversamos sobre eles no capítulo *Operações Lógicas*. Uma variável, qualquer que seja seu tipo, pode ser interpretada pelo **if** como se fosse uma expressão lógica.\n",
    "> \n",
    "> Se ```x```  for um\n",
    "inteiro, o bloco ```if x:``` será executado caso ```x``` seja diferente de zero, por exemplo.\n",
    "> \n",
    "> Uma fonte comum de erros em iniciantes envolve o uso de **and** ou **or** em condicionais e a forma como Python lida com valores *truthy* e *falsy*. Execute o trecho de código abaixo:"
   ]
  },
  {
   "cell_type": "code",
   "execution_count": null,
   "id": "0c1377af",
   "metadata": {},
   "outputs": [],
   "source": [
    "seguro = input('Deseja adquirir um seguro opcional (sim/não): ')\n",
    "\n",
    "if (seguro != 'sim') and (seguro != 'não'): # (true and false) = false\n",
    "    print('Você não digitou uma opção válida')\n",
    "else:\n",
    "    print('Opção válida')"
   ]
  },
  {
   "cell_type": "code",
   "execution_count": null,
   "id": "be29f1c9",
   "metadata": {},
   "outputs": [],
   "source": [
    "varaivel = (False and 'Sim')\n",
    "\n",
    "print(varaivel)"
   ]
  },
  {
   "cell_type": "markdown",
   "id": "66ea9548",
   "metadata": {},
   "source": [
    "> Você verá que ele nem sempre se comporta como você imaginaria. O Python não irá interpretar a condição do **if** como \"seguro diferente de 'sim' e seguro diferente de 'não'\", e sim como \"(seguro diferente de 'sim') e ('não').\n",
    "> \n",
    "> Isso ocorre porque no **if** temos uma expressão lógica do tipo\n",
    "\"expressão1 and expressão2\". Nossa expressão1 é \"seguro != 'sim'\", e nossa expressão2 é apenas a string 'não'. \n",
    "> \n",
    "> A expressão2 é, portanto, uma string não-vazia, portanto ela é *truthy*. O Python irá implicitamente convertê-la para o valor lógico **True**.\n",
    "Portanto, temos a expressão ```(seguro !='sim') and (True)```. Logo, a condição será verdadeira se ```seguro !='sim'``` e falsa caso contrário. Logo, se você digitar \"não\", a expressão é falsa e o programa dirá que você digitou algo inválido. \n",
    "> \n",
    "> Para evitar esse problema, você precisa ser explícito em suas condições:"
   ]
  },
  {
   "cell_type": "code",
   "execution_count": null,
   "id": "d7b838c6",
   "metadata": {},
   "outputs": [],
   "source": [
    "seguro = input('Deseja adquirir um seguro opcional (sim/não): ')\n",
    " \n",
    "if seguro != 'sim' and seguro != 'não':\n",
    "    print('Você não digitou uma opção válida')"
   ]
  },
  {
   "cell_type": "markdown",
   "id": "8889aa35",
   "metadata": {},
   "source": [
    "## Exercícios \n",
    "\n",
    "1. Escreva um programa que retorna a parte decimal de um número. O programa deve solicitar por teclado um número, se a parte decimal for 0 mostrar a mensagem 'O número informado é um inteiro.'. Se a parte decimal for diferente de 0, mostrar a mensagem 'A parte decimal é: x' ('x' é o valor decimal)."
   ]
  },
  {
   "cell_type": "code",
   "execution_count": 30,
   "id": "34c67807",
   "metadata": {},
   "outputs": [
    {
     "name": "stdout",
     "output_type": "stream",
     "text": [
      "O número informado é inteiro\n"
     ]
    }
   ],
   "source": [
    "pede_num = float(input(\"Informe um número para saber sua parte decimal!\"))\n",
    "\n",
    "transforma_str = str(pede_num)\n",
    "num_separado = transforma_str.split('.')\n",
    "num_int = int(num_separado[0])\n",
    "num_decimal = int(num_separado[1]) \n",
    "\n",
    "if num_decimal == 0:\n",
    "    print(\"O número informado é inteiro\")\n",
    "else:\n",
    "    print(f\"O valor decimal é: {num_separado[1]}\")"
   ]
  },
  {
   "cell_type": "markdown",
   "id": "955c8cb3",
   "metadata": {},
   "source": [
    "2. Uma empresa decidiu dar bonificação de 5% ao funcionário se o seu tempo de serviço for superior a 5 anos. Pergunte ao usuário seu salário e anos de serviço e imprima o valor líquido do bônus."
   ]
  },
  {
   "cell_type": "code",
   "execution_count": 41,
   "id": "1d81538b",
   "metadata": {},
   "outputs": [
    {
     "name": "stdout",
     "output_type": "stream",
     "text": [
      "Seu tempo de casa é insuficente para receber um aumeto\n"
     ]
    }
   ],
   "source": [
    "pede_salario = int(input('Informe seu salário'))\n",
    "pede_temp_casa = int(input('Informe seu tempo de contribuição'))\n",
    "\n",
    "if pede_temp_casa >= 5:\n",
    "    salario_com_bonus = pede_salario + (pede_salario * 0.05)\n",
    "    bonus = salario_com_bonus - pede_salario\n",
    "    print(f\"Aumento salárial: {pede_salario}\")\n",
    "else:\n",
    "    print(\"Seu tempo de casa é insuficente para receber um aumeto salárial\")"
   ]
  },
  {
   "cell_type": "code",
   "execution_count": 44,
   "id": "a1351abd",
   "metadata": {},
   "outputs": [
    {
     "name": "stdout",
     "output_type": "stream",
     "text": [
      "Valor: 25\n"
     ]
    }
   ],
   "source": [
    "cond1 = True\n",
    "cond2 = True\n",
    "\n",
    "if cond1:\n",
    "    a = 20\n",
    "if cond1:\n",
    "    a = 25\n",
    "else:\n",
    "    a = 30\n",
    "\n",
    "print(\"Valor:\", a)"
   ]
  },
  {
   "cell_type": "markdown",
   "id": "077b806b",
   "metadata": {},
   "source": [
    "3. A Ada decidiu organizar um bolão para a copa do Mundo. As regras para atribuir pontos são as seguintes:\n",
    "\n",
    "- Acertar o placar exato dá 25 pontos.\n",
    "- Acertar o vencedor e o número de gols da equipe vencedora dá 18 pontos.\n",
    "- Acertar o vencedor e a diferença de gols entre o vencedor e perdedor dá 15 pontos.\n",
    "- Acertar que a partida terminaria em empate dá 15 pontos.\n",
    "- Acertar o time vencedor e o número de gols do time perdedor dá 12 pontos.\n",
    "- Acertar apenas o vencedor da partida dá 10 pontos.\n",
    "- Previu que o jogo seria um empate e não foi empate dá 4 pontos.\n",
    "- Qualquer outro caso, serão 0 pontos.\n",
    "\n",
    "Construa um programa que verifique quantos pontos a usuário ganhou em uma partida. O programa deve solicitar os valores do escore real e os valores preditos pelo usuário.\n",
    "\n",
    "Exemplos:\n",
    "\n",
    "O resultado do jogo foi: Time_A vs Time_B (2 - 3)\n",
    "\n",
    "- Para o palpite (1 - 3), o usuário ganha 18 pontos (acertou vencedor e numero de gols da equipe vencedora.)\n",
    "- Para o palpite (0 - 1), o usuário ganha 15 pontos (acertou vencedor e diferença de gols.)\n",
    "- Para o palpite (0 - 2), o usuário ganha 10 pontos (acertou unicamente o vencedor.)\n",
    "- Para o palpite (2 - 2), o usuário unicamente ganha 4 pontos.\n"
   ]
  },
  {
   "cell_type": "code",
   "execution_count": null,
   "id": "e030d031",
   "metadata": {},
   "outputs": [],
   "source": []
  }
 ],
 "metadata": {
  "kernelspec": {
   "display_name": "Python 3 (ipykernel)",
   "language": "python",
   "name": "python3"
  },
  "language_info": {
   "codemirror_mode": {
    "name": "ipython",
    "version": 3
   },
   "file_extension": ".py",
   "mimetype": "text/x-python",
   "name": "python",
   "nbconvert_exporter": "python",
   "pygments_lexer": "ipython3",
   "version": "3.9.0"
  }
 },
 "nbformat": 4,
 "nbformat_minor": 5
}
